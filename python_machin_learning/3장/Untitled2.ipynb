{
 "cells": [
  {
   "cell_type": "code",
   "execution_count": 1,
   "id": "4029d32d",
   "metadata": {},
   "outputs": [
    {
     "name": "stdout",
     "output_type": "stream",
     "text": [
      "0    500\n",
      "1    268\n",
      "Name: Outcome, dtype: int64\n"
     ]
    }
   ],
   "source": [
    "import numpy as np\n",
    "import pandas as pd\n",
    "import matplotlib.pyplot as plt\n",
    "%matplotlib inline\n",
    "\n",
    "from sklearn.model_selection import train_test_split\n",
    "from sklearn.metrics import accuracy_score, precision_score, recall_score, roc_auc_score\n",
    "from sklearn.metrics import f1_score, confusion_matrix, precision_recall_curve, roc_curve\n",
    "from sklearn.preprocessing import StandardScaler\n",
    "from sklearn.linear_model import LogisticRegression\n",
    "\n",
    "diabetes_data = pd.read_csv('diabetes.csv')\n",
    "print(diabetes_data['Outcome'].value_counts())"
   ]
  },
  {
   "cell_type": "code",
   "execution_count": 2,
   "id": "0bdb993a",
   "metadata": {},
   "outputs": [
    {
     "name": "stdout",
     "output_type": "stream",
     "text": [
      "<class 'pandas.core.frame.DataFrame'>\n",
      "RangeIndex: 768 entries, 0 to 767\n",
      "Data columns (total 9 columns):\n",
      " #   Column                    Non-Null Count  Dtype  \n",
      "---  ------                    --------------  -----  \n",
      " 0   Pregnancies               768 non-null    int64  \n",
      " 1   Glucose                   768 non-null    int64  \n",
      " 2   BloodPressure             768 non-null    int64  \n",
      " 3   SkinThickness             768 non-null    int64  \n",
      " 4   Insulin                   768 non-null    int64  \n",
      " 5   BMI                       768 non-null    float64\n",
      " 6   DiabetesPedigreeFunction  768 non-null    float64\n",
      " 7   Age                       768 non-null    int64  \n",
      " 8   Outcome                   768 non-null    int64  \n",
      "dtypes: float64(2), int64(7)\n",
      "memory usage: 54.1 KB\n"
     ]
    }
   ],
   "source": [
    "diabetes_data.info()"
   ]
  },
  {
   "cell_type": "code",
   "execution_count": 3,
   "id": "250a0e2e",
   "metadata": {},
   "outputs": [],
   "source": [
    "def get_clf_eval(y_test, pred = None, pred_proba = None):\n",
    "    confusion = confusion_matrix(y_test, pred)\n",
    "    accuracy = accuracy_score(y_test,pred)\n",
    "    precision = precision_score(y_test,pred)\n",
    "    recall = recall_score(y_test, pred)\n",
    "    f1 = f1_score(y_test, pred)\n",
    "    roc_auc = roc_auc_score(y_test, pred_proba)\n",
    "    print('오차행렬')\n",
    "    print(confusion)\n",
    "    print(\"정확도 : {0:.4f}, 정밀도 : {1:.4f}, 재현율 : {2:.4f}, F1 : {3:.4f}, AUC : {4:.4f}\"\\\n",
    "         .format(accuracy, precision, recall, f1, roc_auc))"
   ]
  },
  {
   "cell_type": "code",
   "execution_count": 17,
   "id": "2a61bf07",
   "metadata": {},
   "outputs": [
    {
     "name": "stdout",
     "output_type": "stream",
     "text": [
      "     Pregnancies  Glucose  BloodPressure  SkinThickness  Insulin   BMI  \\\n",
      "0              6      148             72             35        0  33.6   \n",
      "1              1       85             66             29        0  26.6   \n",
      "2              8      183             64              0        0  23.3   \n",
      "3              1       89             66             23       94  28.1   \n",
      "4              0      137             40             35      168  43.1   \n",
      "..           ...      ...            ...            ...      ...   ...   \n",
      "763           10      101             76             48      180  32.9   \n",
      "764            2      122             70             27        0  36.8   \n",
      "765            5      121             72             23      112  26.2   \n",
      "766            1      126             60              0        0  30.1   \n",
      "767            1       93             70             31        0  30.4   \n",
      "\n",
      "     DiabetesPedigreeFunction  Age  Outcome  \n",
      "0                       0.627   50        1  \n",
      "1                       0.351   31        0  \n",
      "2                       0.672   32        1  \n",
      "3                       0.167   21        0  \n",
      "4                       2.288   33        1  \n",
      "..                        ...  ...      ...  \n",
      "763                     0.171   63        0  \n",
      "764                     0.340   27        0  \n",
      "765                     0.245   30        0  \n",
      "766                     0.349   47        1  \n",
      "767                     0.315   23        0  \n",
      "\n",
      "[768 rows x 9 columns]\n"
     ]
    }
   ],
   "source": [
    "X= diabetes_data.iloc[:]\n",
    "print(X)"
   ]
  },
  {
   "cell_type": "code",
   "execution_count": 17,
   "id": "2431e768",
   "metadata": {},
   "outputs": [
    {
     "name": "stdout",
     "output_type": "stream",
     "text": [
      "오차행렬\n",
      "[[87 13]\n",
      " [22 32]]\n",
      "정확도 : 0.7727, 정밀도 : 0.7111, 재현율 : 0.5926, F1 : 0.6465, AUC : 0.8083\n"
     ]
    }
   ],
   "source": [
    "X = diabetes_data.iloc[:,:-1]\n",
    "y = diabetes_data.iloc[:,-1]\n",
    "X_train, X_test, y_train, y_test = train_test_split(X, y, test_size = 0.2, random_state=156, stratify = y)\n",
    "lr_clf = LogisticRegression(solver = 'liblinear')\n",
    "lr_clf.fit(X_train, y_train)\n",
    "pred = lr_clf.predict(X_test)\n",
    "pred_proba = lr_clf.predict_proba(X_test)[:,1]\n",
    "get_clf_eval(y_test,pred,pred_proba)"
   ]
  },
  {
   "cell_type": "code",
   "execution_count": 21,
   "id": "33d0023c",
   "metadata": {},
   "outputs": [],
   "source": [
    "def precision_recall_curve_plot(y_test=None, pred_proba_c1=None):\n",
    "    # threshold ndarray와 이 threshold에 따른 정밀도, 재현율 ndarray 추출. \n",
    "    precisions, recalls, thresholds = precision_recall_curve( y_test, pred_proba_c1)\n",
    "    \n",
    "    # X축을 threshold값으로, Y축은 정밀도, 재현율 값으로 각각 Plot 수행. 정밀도는 점선으로 표시\n",
    "    plt.figure(figsize=(8,6))\n",
    "    threshold_boundary = thresholds.shape[0]\n",
    "    plt.plot(thresholds, precisions[0:threshold_boundary], linestyle='--', label='precision')\n",
    "    plt.plot(thresholds, recalls[0:threshold_boundary],label='recall')\n",
    "    \n",
    "    # threshold 값 X 축의 Scale을 0.1 단위로 변경\n",
    "    start, end = plt.xlim()\n",
    "    plt.xticks(np.round(np.arange(start, end, 0.1),2))\n",
    "    \n",
    "    # x축, y축 label과 legend, 그리고 grid 설정\n",
    "    plt.xlabel('Threshold value'); plt.ylabel('Precision and Recall value')\n",
    "    plt.legend(); plt.grid()\n",
    "    plt.show()"
   ]
  },
  {
   "cell_type": "code",
   "execution_count": 22,
   "id": "03f96f44",
   "metadata": {},
   "outputs": [
    {
     "data": {
      "image/png": "[encoded data removed]",
      "text/plain": [
       "<Figure size 576x432 with 1 Axes>"
      ]
     },
     "metadata": {
      "needs_background": "light"
     },
     "output_type": "display_data"
    }
   ],
   "source": [
    "pred_proba_c1 = lr_clf.predict_proba(X_test)[:,1]\n",
    "precision_recall_curve_plot(y_test, pred_proba_c1)"
   ]
  },
  {
   "cell_type": "code",
   "execution_count": 23,
   "id": "b3d0428e",
   "metadata": {},
   "outputs": [],
   "source": [
    "zero_features = ['Glucose', 'BloodPressure', 'SkinThickness', 'Insulin', 'BMI']\n",
    "zero_features_mean = diabetes_data[zero_features].mean()\n",
    "diabetes_data[zero_features] = diabetes_data[zero_features].replace(0,zero_features_mean)"
   ]
  },
  {
   "cell_type": "code",
   "execution_count": 24,
   "id": "66721f0c",
   "metadata": {},
   "outputs": [],
   "source": [
    "X = diabetes_data.iloc[:,:-1]\n",
    "y = diabetes_data.iloc[:,-1]\n",
    "scaler = StandardScaler()\n",
    "x_scaler = scaler.fit_transform(X)"
   ]
  },
  {
   "cell_type": "code",
   "execution_count": 45,
   "id": "2b9fb10c",
   "metadata": {},
   "outputs": [
    {
     "name": "stdout",
     "output_type": "stream",
     "text": [
      "오차행렬\n",
      "[[90 10]\n",
      " [21 33]]\n",
      "정확도 : 0.7987, 정밀도 : 0.7674, 재현율 : 0.6111, F1 : 0.6804, AUC : 0.8433\n"
     ]
    }
   ],
   "source": [
    "X_train, X_test, y_train, y_test = train_test_split(x_scaler, y, test_size = 0.2, random_state = 156, stratify = y)\n",
    "lr_clf = LogisticRegression()\n",
    "lr_clf.fit(X_train, y_train)\n",
    "pred = lr_clf.predict(X_test)\n",
    "pred_proba = lr_clf.predict_proba(X_test)[:,1]\n",
    "get_clf_eval(y_test, pred, pred_proba)"
   ]
  },
  {
   "cell_type": "code",
   "execution_count": 46,
   "id": "b7fe674c",
   "metadata": {},
   "outputs": [
    {
     "name": "stdout",
     "output_type": "stream",
     "text": [
      "[0.03561423 0.20068404 0.157666   0.56657604 0.41439664 0.75446829\n",
      " 0.83917261 0.15064834 0.19288548 0.10662769 0.66807128 0.39434784\n",
      " 0.04656127 0.39070237 0.26363069 0.09221068 0.79317522 0.08837243\n",
      " 0.5844643  0.8036486  0.41610897 0.34759055 0.06374481 0.31740729\n",
      " 0.29788187 0.10409624 0.92102879 0.74917785 0.17258479 0.88834749\n",
      " 0.22884491 0.23579979 0.11190966 0.15169081 0.10217543 0.74205389\n",
      " 0.22076285 0.20662792 0.85291458 0.6633152  0.4099781  0.23486812\n",
      " 0.7026767  0.12921675 0.34381359 0.0147951  0.46453351 0.08790517\n",
      " 0.48686254 0.32870983 0.30974516 0.91792546 0.89718877 0.06088874\n",
      " 0.12539603 0.42885602 0.06942844 0.35335639 0.32985071 0.39350926\n",
      " 0.17921496 0.83696821 0.33329831 0.62375678 0.30333217 0.10268384\n",
      " 0.24320039 0.71832409 0.1460878  0.76973934 0.05942106 0.33520332\n",
      " 0.11915249 0.4568789  0.79016757 0.30271654 0.04012149 0.06529866\n",
      " 0.10891161 0.24991155 0.10936894 0.08101152 0.82885978 0.17355557\n",
      " 0.29003876 0.34562863 0.4828744  0.78478586 0.0584123  0.0228017\n",
      " 0.04144438 0.61983917 0.86796676 0.24070467 0.28920138 0.69004602\n",
      " 0.22105925 0.1969997  0.02997149 0.81627089 0.87968717 0.40820146\n",
      " 0.41467495 0.33781965 0.10592964 0.14816469 0.29876399 0.46205589\n",
      " 0.04071347 0.10512114 0.75124022 0.53700465 0.14220334 0.1981819\n",
      " 0.38418851 0.52853229 0.87477402 0.12504385 0.2687651  0.97634517\n",
      " 0.53608857 0.48667542 0.71217656 0.65552729 0.2512496  0.21885467\n",
      " 0.11137635 0.06331387 0.23468783 0.11731773 0.0225668  0.08923886\n",
      " 0.36287975 0.08970975 0.04285882 0.62908874 0.76740586 0.76256863\n",
      " 0.03752513 0.11499869 0.20781286 0.49221606 0.72704012 0.16497236\n",
      " 0.77527936 0.06023027 0.13494224 0.0185873  0.81370149 0.45117086\n",
      " 0.37937307 0.03719302 0.59150881 0.12704617]\n"
     ]
    }
   ],
   "source": [
    "print(pred_proba)"
   ]
  },
  {
   "cell_type": "code",
   "execution_count": 47,
   "id": "aff83a27",
   "metadata": {},
   "outputs": [],
   "source": [
    "from sklearn.preprocessing import Binarizer\n",
    "\n",
    "def get_eval_by_threshold(y_test , pred_proba_c1, thresholds):\n",
    "    # thresholds 리스트 객체내의 값을 차례로 iteration하면서 Evaluation 수행.\n",
    "    for custom_threshold in thresholds:\n",
    "        binarizer = Binarizer(threshold=custom_threshold).fit(pred_proba_c1) \n",
    "        custom_predict = binarizer.transform(pred_proba_c1)\n",
    "        print('임곗값:',custom_threshold)\n",
    "        get_clf_eval(y_test , custom_predict, pred_proba_c1)"
   ]
  },
  {
   "cell_type": "code",
   "execution_count": 48,
   "id": "0ca6ecaf",
   "metadata": {},
   "outputs": [
    {
     "name": "stdout",
     "output_type": "stream",
     "text": [
      "임곗값: 0.3\n",
      "오차행렬\n",
      "[[67 33]\n",
      " [11 43]]\n",
      "정확도 : 0.7143, 정밀도 : 0.5658, 재현율 : 0.7963, F1 : 0.6615, AUC : 0.8433\n",
      "임곗값: 0.33\n",
      "오차행렬\n",
      "[[72 28]\n",
      " [12 42]]\n",
      "정확도 : 0.7403, 정밀도 : 0.6000, 재현율 : 0.7778, F1 : 0.6774, AUC : 0.8433\n",
      "임곗값: 0.36\n",
      "오차행렬\n",
      "[[76 24]\n",
      " [15 39]]\n",
      "정확도 : 0.7468, 정밀도 : 0.6190, 재현율 : 0.7222, F1 : 0.6667, AUC : 0.8433\n",
      "임곗값: 0.39\n",
      "오차행렬\n",
      "[[78 22]\n",
      " [16 38]]\n",
      "정확도 : 0.7532, 정밀도 : 0.6333, 재현율 : 0.7037, F1 : 0.6667, AUC : 0.8433\n",
      "임곗값: 0.42\n",
      "오차행렬\n",
      "[[84 16]\n",
      " [18 36]]\n",
      "정확도 : 0.7792, 정밀도 : 0.6923, 재현율 : 0.6667, F1 : 0.6792, AUC : 0.8433\n",
      "임곗값: 0.45\n",
      "오차행렬\n",
      "[[85 15]\n",
      " [18 36]]\n",
      "정확도 : 0.7857, 정밀도 : 0.7059, 재현율 : 0.6667, F1 : 0.6857, AUC : 0.8433\n",
      "임곗값: 0.48\n",
      "오차행렬\n",
      "[[88 12]\n",
      " [19 35]]\n",
      "정확도 : 0.7987, 정밀도 : 0.7447, 재현율 : 0.6481, F1 : 0.6931, AUC : 0.8433\n",
      "임곗값: 0.5\n",
      "오차행렬\n",
      "[[90 10]\n",
      " [21 33]]\n",
      "정확도 : 0.7987, 정밀도 : 0.7674, 재현율 : 0.6111, F1 : 0.6804, AUC : 0.8433\n"
     ]
    }
   ],
   "source": [
    "thresholds = [0.3, 0.33, 0.36, 0.39, 0.42, 0.45, 0.48, 0.50]\n",
    "pred_proba = lr_clf.predict_proba(X_test)\n",
    "get_eval_by_threshold(y_test, pred_proba[:,1].reshape(-1,1),thresholds)"
   ]
  },
  {
   "cell_type": "code",
   "execution_count": null,
   "id": "ec31083b",
   "metadata": {},
   "outputs": [],
   "source": []
  },
  {
   "cell_type": "code",
   "execution_count": 44,
   "id": "f874af79",
   "metadata": {},
   "outputs": [],
   "source": [
    "binarizer = Binarizer(threshold = 0.48)\n",
    "pred_th048 = binarizer.fit_transform(pred_proba[:, 1].reshape(-1,1))"
   ]
  },
  {
   "cell_type": "code",
   "execution_count": null,
   "id": "61137d27",
   "metadata": {},
   "outputs": [],
   "source": []
  }
 ],
 "metadata": {
  "kernelspec": {
   "display_name": "Python 3 (ipykernel)",
   "language": "python",
   "name": "python3"
  },
  "language_info": {
   "codemirror_mode": {
    "name": "ipython",
    "version": 3
   },
   "file_extension": ".py",
   "mimetype": "text/x-python",
   "name": "python",
   "nbconvert_exporter": "python",
   "pygments_lexer": "ipython3",
   "version": "3.9.12"
  }
 },
 "nbformat": 4,
 "nbformat_minor": 5
}
